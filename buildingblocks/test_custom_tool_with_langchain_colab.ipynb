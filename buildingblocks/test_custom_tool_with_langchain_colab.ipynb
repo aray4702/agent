{
  "cells": [
    {
      "cell_type": "code",
      "execution_count": null,
      "metadata": {},
      "outputs": [],
      "source": []
    },
    {
      "cell_type": "markdown",
      "metadata": {},
      "source": []
    },
    {
      "cell_type": "code",
      "execution_count": null,
      "metadata": {},
      "outputs": [],
      "source": [
        "# Set your OpenAI API key (input will be hidden)\n",
        "import os\n",
        "from getpass import getpass\n",
        "os.environ['OPENAI_API_KEY'] = getpass('Enter your OpenAI API key: ')\n",
        "print('API key set!')\n"
      ]
    },
    {
      "cell_type": "markdown",
      "metadata": {},
      "source": [
        "## Define the Custom Calculator Tool\n",
        "(Copied here for Colab self-containment)\n"
      ]
    },
    {
      "cell_type": "code",
      "execution_count": null,
      "metadata": {},
      "outputs": [],
      "source": [
        "class CustomCalculatorTool:\n",
        "    \"\"\"\n",
        "    A simple custom tool for agents: a basic calculator.\n",
        "    Methods: add, subtract, multiply, divide.\n",
        "    \"\"\"\n",
        "    def add(self, a, b):\n",
        "        return a + b\n",
        "\n",
        "    def subtract(self, a, b):\n",
        "        return a - b\n",
        "\n",
        "    def multiply(self, a, b):\n",
        "        return a * b\n",
        "\n",
        "    def divide(self, a, b):\n",
        "        if b == 0:\n",
        "            raise ValueError(\"Cannot divide by zero.\")\n",
        "        return a / b\n"
      ]
    },
    {
      "cell_type": "markdown",
      "metadata": {},
      "source": [
        "## Run the LangChain Agent with the Custom Tool and ChatGPT LLM\n"
      ]
    },
    {
      "cell_type": "code",
      "execution_count": null,
      "metadata": {},
      "outputs": [],
      "source": [
        "from langchain.tools import Tool\n",
        "from langchain.agents import initialize_agent, AgentType\n",
        "from langchain.chat_models import ChatOpenAI\n",
        "\n",
        "# Initialize the custom calculator tool\n",
        "calc = CustomCalculatorTool()\n",
        "\n",
        "# Define the tool for LangChain\n",
        "calculator_tool = Tool(\n",
        "    name=\"Calculator\",\n",
        "    func=lambda x: str(eval(x)),  # For demo: use eval for simple math expressions\n",
        "    description=\"Useful for simple math operations. Input should be a valid Python math expression, e.g., '2 + 2' or '10 / 5'.\"\n",
        ")\n",
        "\n",
        "# Set up the LLM\n",
        "llm = ChatOpenAI(model_name=\"gpt-3.5-turbo\", temperature=0)\n",
        "\n",
        "# Initialize the agent with the tool\n",
        "agent = initialize_agent(\n",
        "    tools=[calculator_tool],\n",
        "    llm=llm,\n",
        "    agent=AgentType.ZERO_SHOT_REACT_DESCRIPTION,\n",
        "    verbose=True\n",
        ")\n",
        "\n",
        "# Test: Ask the agent a math question\n",
        "question = \"What is 7 times 8 plus 10?\"\n",
        "print(\"Agent response:\")\n",
        "response = agent.run(question)\n",
        "print(response)\n"
      ]
    },
    {
      "cell_type": "code",
      "execution_count": null,
      "metadata": {},
      "outputs": [],
      "source": [
        "# Install required packages\n",
        "!pip install -q langchain openai\n"
      ]
    },
    {
      "cell_type": "markdown",
      "metadata": {},
      "source": [
        "# Test: Custom Tool with LangChain Agent and ChatGPT LLM\n",
        "\n",
        "This Colab notebook demonstrates how to use a custom calculator tool with a LangChain agent and OpenAI's ChatGPT LLM.\n"
      ]
    }
  ],
  "metadata": {
    "language_info": {
      "name": "python"
    }
  },
  "nbformat": 4,
  "nbformat_minor": 2
}
