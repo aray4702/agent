{
  "cells": [
    {
      "cell_type": "markdown",
      "id": "c602b48d",
      "metadata": {
        "id": "c602b48d"
      },
      "source": [
        "Hello my first github notebook"
      ]
    },
    {
      "cell_type": "code",
      "execution_count": 1,
      "id": "f3fe4f1f",
      "metadata": {
        "vscode": {
          "languageId": "plaintext"
        },
        "id": "f3fe4f1f",
        "outputId": "3987e25d-35d8-4e24-c52b-4cec50bd4d09",
        "colab": {
          "base_uri": "https://localhost:8080/"
        }
      },
      "outputs": [
        {
          "output_type": "stream",
          "name": "stdout",
          "text": [
            "/content\n"
          ]
        }
      ],
      "source": [
        "# @title description\n",
        "\n",
        "!pwd"
      ]
    },
    {
      "cell_type": "code",
      "source": [
        "# add more changes"
      ],
      "metadata": {
        "id": "ttx3LWJ0w4hh"
      },
      "id": "ttx3LWJ0w4hh",
      "execution_count": null,
      "outputs": []
    }
  ],
  "metadata": {
    "language_info": {
      "name": "python"
    },
    "colab": {
      "provenance": []
    },
    "kernelspec": {
      "name": "python3",
      "display_name": "Python 3"
    }
  },
  "nbformat": 4,
  "nbformat_minor": 5
}