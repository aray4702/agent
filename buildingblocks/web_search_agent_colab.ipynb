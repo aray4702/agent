{
 "cells": [
  {
   "cell_type": "markdown",
   "id": "c602b48d",
   "metadata": {},
   "source": [
    "Hello my first github notebook"
   ]
  },
  {
   "cell_type": "code",
   "execution_count": null,
   "id": "f3fe4f1f",
   "metadata": {
    "vscode": {
     "languageId": "plaintext"
    }
   },
   "outputs": [],
   "source": [
    "# @title description\n",
    "\n",
    "!pwd"
   ]
  }
 ],
 "metadata": {
  "language_info": {
   "name": "python"
  }
 },
 "nbformat": 4,
 "nbformat_minor": 5
}
